{
 "cells": [
  {
   "cell_type": "code",
   "execution_count": 1,
   "id": "c34b039a",
   "metadata": {},
   "outputs": [],
   "source": [
    "import torch \n",
    "import torchvision.transforms as transforms \n",
    "import torch.nn as nn \n",
    "import torch.nn.functional as F \n",
    "import torch.nn.init as init \n",
    "import numpy as np \n",
    "import matplotlib.pyplot as plt \n",
    "import torchvision \n",
    "\n",
    "from torchvision.datasets import CIFAR10 \n",
    "from torch.utils.data import DataLoader \n",
    "from torch.optim import Adam \n",
    "\n",
    "torch.manual_seed(1)\n",
    "device = 'cuda' if torch.cuda.is_available() else 'cpu'"
   ]
  },
  {
   "cell_type": "markdown",
   "id": "126bad99",
   "metadata": {},
   "source": [
    "### Data"
   ]
  },
  {
   "cell_type": "code",
   "execution_count": 2,
   "id": "a9c8e36b",
   "metadata": {},
   "outputs": [
    {
     "name": "stdout",
     "output_type": "stream",
     "text": [
      "Files already downloaded and verified\n",
      "Files already downloaded and verified\n"
     ]
    }
   ],
   "source": [
    "batch_size = 256 \n",
    "transform = transforms.Compose( \n",
    "    [ \n",
    "        transforms.ToTensor()\n",
    "    ]\n",
    ")\n",
    "\n",
    "train_set = CIFAR10(\n",
    "    root='./data', \n",
    "    train=True, \n",
    "    download=True, \n",
    "    transform=transform\n",
    ")\n",
    "\n",
    "val_set = CIFAR10(\n",
    "    root='./data', \n",
    "    train=False, \n",
    "    download=True, \n",
    "    transform=transform\n",
    ")\n",
    "\n",
    "trainloader = DataLoader(\n",
    "    train_set, \n",
    "    batch_size=batch_size, \n",
    "    shuffle=True, \n",
    "    num_workers=4\n",
    ")\n",
    "\n",
    "testloader = DataLoader(\n",
    "    val_set, \n",
    "    batch_size=batch_size, \n",
    "    shuffle=False, \n",
    "    num_workers=4\n",
    ")"
   ]
  },
  {
   "cell_type": "markdown",
   "id": "9b2b3947",
   "metadata": {},
   "source": [
    "### Model"
   ]
  },
  {
   "cell_type": "code",
   "execution_count": 3,
   "id": "659883c2",
   "metadata": {},
   "outputs": [],
   "source": [
    "class CNNModel(nn.Module):\n",
    "    def __init__(self, n_classes=10):\n",
    "        super(CNNModel, self).__init__()\n",
    "        self.conv_layer1 = nn.Sequential(\n",
    "            nn.Conv2d(3, 64, 3, stride=1, padding='same'),\n",
    "            nn.ReLU()\n",
    "        )\n",
    "        self.conv_layer2 = nn.Sequential(\n",
    "            nn.Conv2d(64, 64, 3, stride=1, padding='same'),\n",
    "            nn.ReLU()\n",
    "        )\n",
    "        self.conv_layer3 = nn.Sequential(\n",
    "            nn.Conv2d(64, 64, 3, stride=1, padding='same'),\n",
    "            nn.ReLU(),\n",
    "            nn.MaxPool2d(2, 2)\n",
    "        )\n",
    "        \n",
    "        self.conv_layer4 = nn.Sequential(\n",
    "            nn.Conv2d(64, 128, 3, stride=1, padding='same'),\n",
    "            nn.ReLU(),\n",
    "        )\n",
    "        self.conv_layer5 = nn.Sequential(\n",
    "            nn.Conv2d(128, 128, 3, stride=1, padding='same'),\n",
    "            nn.ReLU(),\n",
    "        )\n",
    "        self.conv_layer6 = nn.Sequential(\n",
    "            nn.Conv2d(128, 128, 3, stride=1, padding='same'),\n",
    "            nn.ReLU(),\n",
    "            nn.MaxPool2d(2, 2)\n",
    "        )\n",
    "\n",
    "        self.conv_layer7 = nn.Sequential(\n",
    "            nn.Conv2d(128, 256, 3, stride=1, padding='same'),\n",
    "            nn.ReLU(),\n",
    "        )\n",
    "        self.conv_layer8 = nn.Sequential(\n",
    "            nn.Conv2d(256, 256, 3, stride=1, padding='same'),\n",
    "            nn.ReLU(),\n",
    "        )\n",
    "        self.conv_layer9 = nn.Sequential(\n",
    "            nn.Conv2d(256, 256, 3, stride=1, padding='same'),\n",
    "            nn.ReLU(),\n",
    "            nn.MaxPool2d(2, 2)\n",
    "        )\n",
    "\n",
    "        self.conv_layer10 = nn.Sequential(\n",
    "            nn.Conv2d(256, 512, 3, stride=1, padding='same'),\n",
    "            nn.ReLU(),\n",
    "        )\n",
    "        self.conv_layer11 = nn.Sequential(\n",
    "            nn.Conv2d(512, 512, 3, stride=1, padding='same'),\n",
    "            nn.ReLU(),\n",
    "        )\n",
    "        self.conv_layer12 = nn.Sequential(\n",
    "            nn.Conv2d(512, 512, 3, stride=1, padding='same'),\n",
    "            nn.ReLU(),\n",
    "            nn.MaxPool2d(2, 2)\n",
    "        )\n",
    "\n",
    "        self.flatten = nn.Flatten()\n",
    "\n",
    "        self.fc_layer1 = nn.Sequential(\n",
    "            nn.Linear(512 * 2 * 2, 512),\n",
    "            nn.ReLU()\n",
    "        )\n",
    "        self.fc_layer2 = nn.Linear(512, n_classes)\n",
    "\n",
    "        # Initialize weights\n",
    "        self.initialize_weights()\n",
    "\n",
    "    def initialize_weights(self):\n",
    "        for m in self.modules():\n",
    "            if isinstance(m, nn.Conv2d):\n",
    "                init.kaiming_normal_(m.weight, \n",
    "                                     nonlinearity='relu')\n",
    "                if m.bias is not None:\n",
    "                    init.zeros_(m.bias)\n",
    "            elif isinstance(m, nn.Linear):\n",
    "                init.kaiming_normal_(m.weight, \n",
    "                                     nonlinearity='relu')\n",
    "                if m.bias is not None:\n",
    "                    init.zeros_(m.bias)\n",
    "    \n",
    "    def forward(self, x):\n",
    "        x = self.conv_layer1(x)\n",
    "        x = self.conv_layer2(x)\n",
    "        x = self.conv_layer3(x)\n",
    "        x = self.conv_layer4(x)\n",
    "        x = self.conv_layer5(x)\n",
    "        x = self.conv_layer6(x)\n",
    "        x = self.conv_layer7(x)\n",
    "        x = self.conv_layer8(x)\n",
    "        x = self.conv_layer9(x)\n",
    "        x = self.conv_layer10(x)\n",
    "        x = self.conv_layer11(x)\n",
    "        x = self.conv_layer12(x)\n",
    "        x = self.flatten(x)\n",
    "        x = self.fc_layer1(x)\n",
    "        out = self.fc_layer2(x)\n",
    "\n",
    "        return out"
   ]
  },
  {
   "cell_type": "code",
   "execution_count": 4,
   "id": "fe68e583",
   "metadata": {},
   "outputs": [
    {
     "name": "stdout",
     "output_type": "stream",
     "text": [
      "CNNModel(\n",
      "  (conv_layer1): Sequential(\n",
      "    (0): Conv2d(3, 64, kernel_size=(3, 3), stride=(1, 1), padding=same)\n",
      "    (1): ReLU()\n",
      "  )\n",
      "  (conv_layer2): Sequential(\n",
      "    (0): Conv2d(64, 64, kernel_size=(3, 3), stride=(1, 1), padding=same)\n",
      "    (1): ReLU()\n",
      "  )\n",
      "  (conv_layer3): Sequential(\n",
      "    (0): Conv2d(64, 64, kernel_size=(3, 3), stride=(1, 1), padding=same)\n",
      "    (1): ReLU()\n",
      "    (2): MaxPool2d(kernel_size=2, stride=2, padding=0, dilation=1, ceil_mode=False)\n",
      "  )\n",
      "  (conv_layer4): Sequential(\n",
      "    (0): Conv2d(64, 128, kernel_size=(3, 3), stride=(1, 1), padding=same)\n",
      "    (1): ReLU()\n",
      "  )\n",
      "  (conv_layer5): Sequential(\n",
      "    (0): Conv2d(128, 128, kernel_size=(3, 3), stride=(1, 1), padding=same)\n",
      "    (1): ReLU()\n",
      "  )\n",
      "  (conv_layer6): Sequential(\n",
      "    (0): Conv2d(128, 128, kernel_size=(3, 3), stride=(1, 1), padding=same)\n",
      "    (1): ReLU()\n",
      "    (2): MaxPool2d(kernel_size=2, stride=2, padding=0, dilation=1, ceil_mode=False)\n",
      "  )\n",
      "  (conv_layer7): Sequential(\n",
      "    (0): Conv2d(128, 256, kernel_size=(3, 3), stride=(1, 1), padding=same)\n",
      "    (1): ReLU()\n",
      "  )\n",
      "  (conv_layer8): Sequential(\n",
      "    (0): Conv2d(256, 256, kernel_size=(3, 3), stride=(1, 1), padding=same)\n",
      "    (1): ReLU()\n",
      "  )\n",
      "  (conv_layer9): Sequential(\n",
      "    (0): Conv2d(256, 256, kernel_size=(3, 3), stride=(1, 1), padding=same)\n",
      "    (1): ReLU()\n",
      "    (2): MaxPool2d(kernel_size=2, stride=2, padding=0, dilation=1, ceil_mode=False)\n",
      "  )\n",
      "  (conv_layer10): Sequential(\n",
      "    (0): Conv2d(256, 512, kernel_size=(3, 3), stride=(1, 1), padding=same)\n",
      "    (1): ReLU()\n",
      "  )\n",
      "  (conv_layer11): Sequential(\n",
      "    (0): Conv2d(512, 512, kernel_size=(3, 3), stride=(1, 1), padding=same)\n",
      "    (1): ReLU()\n",
      "  )\n",
      "  (conv_layer12): Sequential(\n",
      "    (0): Conv2d(512, 512, kernel_size=(3, 3), stride=(1, 1), padding=same)\n",
      "    (1): ReLU()\n",
      "    (2): MaxPool2d(kernel_size=2, stride=2, padding=0, dilation=1, ceil_mode=False)\n",
      "  )\n",
      "  (flatten): Flatten(start_dim=1, end_dim=-1)\n",
      "  (fc_layer1): Sequential(\n",
      "    (0): Linear(in_features=2048, out_features=512, bias=True)\n",
      "    (1): ReLU()\n",
      "  )\n",
      "  (fc_layer2): Linear(in_features=512, out_features=10, bias=True)\n",
      ")\n"
     ]
    }
   ],
   "source": [
    "model = CNNModel(10)\n",
    "\n",
    "model.to(device)\n",
    "print(model)"
   ]
  },
  {
   "cell_type": "markdown",
   "id": "04152dc3",
   "metadata": {},
   "source": [
    "### Train"
   ]
  },
  {
   "cell_type": "code",
   "execution_count": 5,
   "id": "6a8cf37b",
   "metadata": {},
   "outputs": [],
   "source": [
    "criterion = nn.CrossEntropyLoss()\n",
    "optimizer = Adam(model.parameters(), lr=1e-3)"
   ]
  },
  {
   "cell_type": "code",
   "execution_count": 6,
   "id": "6d9e0b86",
   "metadata": {},
   "outputs": [],
   "source": [
    "def evaluate(model, testloader, criterion):\n",
    "    model.eval()\n",
    "    test_loss = 0.0\n",
    "    running_correct = 0\n",
    "    total = 0\n",
    "    with torch.no_grad():\n",
    "        for images, labels in testloader:\n",
    "            images, labels = images.to(device), labels.to(device)\n",
    "\n",
    "            outputs = model(images)\n",
    "            loss = criterion(outputs, labels)\n",
    "            test_loss += loss.item()\n",
    "            \n",
    "            _, predicted = torch.max(outputs.data, 1)\n",
    "            total += labels.size(0)\n",
    "            running_correct += (predicted == labels).sum().item()\n",
    "\n",
    "    accuracy = 100 * running_correct / total\n",
    "    test_loss = test_loss / len(testloader)\n",
    "    return test_loss, accuracy"
   ]
  },
  {
   "cell_type": "code",
   "execution_count": 7,
   "id": "d7a15e53",
   "metadata": {},
   "outputs": [],
   "source": [
    "train_losses = []\n",
    "train_accuracies = []\n",
    "test_losses = []\n",
    "test_accuracies = []\n",
    "max_epoch = 50"
   ]
  },
  {
   "cell_type": "code",
   "execution_count": 8,
   "id": "cbef0866",
   "metadata": {},
   "outputs": [
    {
     "name": "stdout",
     "output_type": "stream",
     "text": [
      "Epoch [1/50], Loss: 2.1756, Accuracy: 21.30%, Test Loss: 1.7355, Test Accuracy: 34.60%\n",
      "Epoch [2/50], Loss: 1.5312, Accuracy: 42.64%, Test Loss: 1.5165, Test Accuracy: 44.41%\n",
      "Epoch [3/50], Loss: 1.2081, Accuracy: 55.92%, Test Loss: 1.1178, Test Accuracy: 60.14%\n",
      "Epoch [4/50], Loss: 0.9845, Accuracy: 64.37%, Test Loss: 0.9932, Test Accuracy: 64.79%\n",
      "Epoch [5/50], Loss: 0.8094, Accuracy: 71.36%, Test Loss: 0.8207, Test Accuracy: 71.11%\n",
      "Epoch [6/50], Loss: 0.6592, Accuracy: 76.90%, Test Loss: 0.7507, Test Accuracy: 73.95%\n",
      "Epoch [7/50], Loss: 0.5585, Accuracy: 80.44%, Test Loss: 0.7176, Test Accuracy: 75.52%\n",
      "Epoch [8/50], Loss: 0.4392, Accuracy: 84.61%, Test Loss: 0.7024, Test Accuracy: 76.65%\n",
      "Epoch [9/50], Loss: 0.3473, Accuracy: 87.88%, Test Loss: 0.7377, Test Accuracy: 76.52%\n",
      "Epoch [10/50], Loss: 0.2923, Accuracy: 89.80%, Test Loss: 0.8310, Test Accuracy: 76.43%\n",
      "Epoch [11/50], Loss: 0.2464, Accuracy: 91.44%, Test Loss: 0.8384, Test Accuracy: 76.22%\n",
      "Epoch [12/50], Loss: 0.2033, Accuracy: 92.97%, Test Loss: 0.8391, Test Accuracy: 77.35%\n",
      "Epoch [13/50], Loss: 0.1828, Accuracy: 93.68%, Test Loss: 1.0521, Test Accuracy: 75.90%\n",
      "Epoch [14/50], Loss: 0.1600, Accuracy: 94.49%, Test Loss: 0.9387, Test Accuracy: 77.51%\n",
      "Epoch [15/50], Loss: 0.1240, Accuracy: 95.74%, Test Loss: 0.9840, Test Accuracy: 76.68%\n",
      "Epoch [16/50], Loss: 0.1272, Accuracy: 95.73%, Test Loss: 0.9991, Test Accuracy: 76.45%\n",
      "Epoch [17/50], Loss: 0.1103, Accuracy: 96.32%, Test Loss: 1.0542, Test Accuracy: 77.28%\n",
      "Epoch [18/50], Loss: 0.1013, Accuracy: 96.59%, Test Loss: 1.0353, Test Accuracy: 78.09%\n",
      "Epoch [19/50], Loss: 0.0836, Accuracy: 97.15%, Test Loss: 1.0842, Test Accuracy: 78.65%\n",
      "Epoch [20/50], Loss: 0.0891, Accuracy: 97.02%, Test Loss: 1.1765, Test Accuracy: 76.90%\n",
      "Epoch [21/50], Loss: 0.0883, Accuracy: 97.11%, Test Loss: 1.0141, Test Accuracy: 77.66%\n",
      "Epoch [22/50], Loss: 0.0907, Accuracy: 96.96%, Test Loss: 1.0559, Test Accuracy: 78.57%\n",
      "Epoch [23/50], Loss: 0.0669, Accuracy: 97.77%, Test Loss: 1.1426, Test Accuracy: 77.70%\n",
      "Epoch [24/50], Loss: 0.0738, Accuracy: 97.52%, Test Loss: 1.0673, Test Accuracy: 78.26%\n",
      "Epoch [25/50], Loss: 0.0699, Accuracy: 97.61%, Test Loss: 1.2421, Test Accuracy: 77.94%\n",
      "Epoch [26/50], Loss: 0.0753, Accuracy: 97.52%, Test Loss: 1.1124, Test Accuracy: 78.81%\n",
      "Epoch [27/50], Loss: 0.0744, Accuracy: 97.60%, Test Loss: 1.0768, Test Accuracy: 77.39%\n",
      "Epoch [28/50], Loss: 0.0641, Accuracy: 97.85%, Test Loss: 1.2700, Test Accuracy: 76.43%\n",
      "Epoch [29/50], Loss: 0.0728, Accuracy: 97.59%, Test Loss: 1.1553, Test Accuracy: 77.35%\n",
      "Epoch [30/50], Loss: 0.0701, Accuracy: 97.69%, Test Loss: 1.1952, Test Accuracy: 78.01%\n",
      "Epoch [31/50], Loss: 0.0614, Accuracy: 97.98%, Test Loss: 1.4696, Test Accuracy: 77.97%\n",
      "Epoch [32/50], Loss: 0.0613, Accuracy: 97.98%, Test Loss: 1.2854, Test Accuracy: 78.43%\n",
      "Epoch [33/50], Loss: 0.0649, Accuracy: 97.90%, Test Loss: 1.1716, Test Accuracy: 78.03%\n",
      "Epoch [34/50], Loss: 0.0554, Accuracy: 98.23%, Test Loss: 1.4404, Test Accuracy: 78.32%\n",
      "Epoch [35/50], Loss: 0.0519, Accuracy: 98.38%, Test Loss: 1.3439, Test Accuracy: 78.68%\n",
      "Epoch [36/50], Loss: 0.0539, Accuracy: 98.29%, Test Loss: 1.3433, Test Accuracy: 77.78%\n",
      "Epoch [37/50], Loss: 0.0646, Accuracy: 98.02%, Test Loss: 1.3335, Test Accuracy: 77.79%\n",
      "Epoch [38/50], Loss: 0.0599, Accuracy: 98.20%, Test Loss: 1.4193, Test Accuracy: 77.74%\n",
      "Epoch [39/50], Loss: 0.0562, Accuracy: 98.24%, Test Loss: 1.3203, Test Accuracy: 78.91%\n",
      "Epoch [40/50], Loss: 0.0580, Accuracy: 98.18%, Test Loss: 1.0965, Test Accuracy: 78.36%\n",
      "Epoch [41/50], Loss: 0.0577, Accuracy: 98.22%, Test Loss: 1.3512, Test Accuracy: 77.87%\n",
      "Epoch [42/50], Loss: 0.0661, Accuracy: 97.95%, Test Loss: 1.2654, Test Accuracy: 78.71%\n",
      "Epoch [43/50], Loss: 0.0555, Accuracy: 98.29%, Test Loss: 1.3891, Test Accuracy: 78.03%\n",
      "Epoch [44/50], Loss: 0.0607, Accuracy: 98.07%, Test Loss: 1.2959, Test Accuracy: 78.73%\n",
      "Epoch [45/50], Loss: 0.0534, Accuracy: 98.33%, Test Loss: 1.3393, Test Accuracy: 78.51%\n",
      "Epoch [46/50], Loss: 0.0722, Accuracy: 97.87%, Test Loss: 1.3998, Test Accuracy: 78.63%\n",
      "Epoch [47/50], Loss: 0.0573, Accuracy: 98.18%, Test Loss: 1.3148, Test Accuracy: 78.58%\n",
      "Epoch [48/50], Loss: 0.0453, Accuracy: 98.67%, Test Loss: 1.5011, Test Accuracy: 78.18%\n",
      "Epoch [49/50], Loss: 0.0499, Accuracy: 98.45%, Test Loss: 1.6166, Test Accuracy: 77.61%\n",
      "Epoch [50/50], Loss: 0.0465, Accuracy: 98.55%, Test Loss: 1.4929, Test Accuracy: 78.13%\n"
     ]
    }
   ],
   "source": [
    "for epoch in range(max_epoch):\n",
    "    model.train()\n",
    "    running_loss = 0.0\n",
    "    running_correct = 0   \n",
    "    total = 0             \n",
    "\n",
    "    for i, (inputs, labels) in enumerate(trainloader, 0):\n",
    "        inputs, labels = inputs.to(device), labels.to(device)\n",
    "\n",
    "        optimizer.zero_grad()\n",
    "\n",
    "        outputs = model(inputs)\n",
    "        loss = criterion(outputs, labels)\n",
    "        running_loss += loss.item()\n",
    "\n",
    "        loss.backward()\n",
    "        optimizer.step()  \n",
    "    \n",
    "        _, predicted = torch.max(outputs.data, 1)\n",
    "        total += labels.size(0)\n",
    "        running_correct += (predicted == labels).sum().item()\n",
    "\n",
    "\n",
    "    epoch_accuracy = 100 * running_correct / total\n",
    "    epoch_loss = running_loss / (i + 1)\n",
    "    \n",
    "    test_loss, test_accuracy = evaluate(model, testloader, criterion)\n",
    "    print(f\"Epoch [{epoch + 1}/{max_epoch}], Loss: {epoch_loss:.4f}, Accuracy: {epoch_accuracy:.2f}%, Test Loss: {test_loss:.4f}, Test Accuracy: {test_accuracy:.2f}%\")\n",
    "    \n",
    "    train_losses.append(epoch_loss)\n",
    "    train_accuracies.append(epoch_accuracy)\n",
    "    test_losses.append(test_loss)\n",
    "    test_accuracies.append(test_accuracy)"
   ]
  },
  {
   "cell_type": "code",
   "execution_count": 9,
   "id": "5e822909",
   "metadata": {},
   "outputs": [
    {
     "data": {
      "text/plain": [
       "<matplotlib.legend.Legend at 0x1a09ee05900>"
      ]
     },
     "execution_count": 9,
     "metadata": {},
     "output_type": "execute_result"
    },
    {
     "data": {
      "image/png": "[encoded data removed]",
      "text/plain": [
       "<Figure size 640x480 with 1 Axes>"
      ]
     },
     "metadata": {},
     "output_type": "display_data"
    }
   ],
   "source": [
    "import matplotlib.pyplot as plt\n",
    "\n",
    "plt.plot(train_losses, label='train_losses')\n",
    "plt.plot(test_losses, label='test_losses')\n",
    "plt.legend()"
   ]
  },
  {
   "cell_type": "code",
   "execution_count": 10,
   "id": "3146896f",
   "metadata": {},
   "outputs": [
    {
     "data": {
      "text/plain": [
       "<matplotlib.legend.Legend at 0x1a12e246b60>"
      ]
     },
     "execution_count": 10,
     "metadata": {},
     "output_type": "execute_result"
    },
    {
     "data": {
      "image/png": "[encoded data removed]",
      "text/plain": [
       "<Figure size 640x480 with 1 Axes>"
      ]
     },
     "metadata": {},
     "output_type": "display_data"
    }
   ],
   "source": [
    "import matplotlib.pyplot as plt\n",
    "\n",
    "plt.plot(train_accuracies, label='train_accuracy')\n",
    "plt.plot(test_accuracies, label='test_accuracy')\n",
    "plt.legend()"
   ]
  },
  {
   "cell_type": "code",
   "execution_count": null,
   "id": "8e9c28da",
   "metadata": {},
   "outputs": [],
   "source": []
  }
 ],
 "metadata": {
  "kernelspec": {
   "display_name": "torchenv310",
   "language": "python",
   "name": "python3"
  },
  "language_info": {
   "codemirror_mode": {
    "name": "ipython",
    "version": 3
   },
   "file_extension": ".py",
   "mimetype": "text/x-python",
   "name": "python",
   "nbconvert_exporter": "python",
   "pygments_lexer": "ipython3",
   "version": "3.10.16"
  }
 },
 "nbformat": 4,
 "nbformat_minor": 5
}
