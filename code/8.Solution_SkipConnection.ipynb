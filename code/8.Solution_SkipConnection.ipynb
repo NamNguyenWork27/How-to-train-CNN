{
 "cells": [
  {
   "cell_type": "code",
   "execution_count": 1,
   "id": "c26db675",
   "metadata": {},
   "outputs": [],
   "source": [
    "import torch \n",
    "import torchvision.transforms as transforms \n",
    "import torch.nn as nn \n",
    "import torch.nn.functional as F \n",
    "import torch.nn.init as init \n",
    "import numpy as np \n",
    "import matplotlib.pyplot as plt \n",
    "\n",
    "from torchvision.datasets import CIFAR10 \n",
    "from torch.utils.data import DataLoader \n",
    "from torch.optim import Adam \n",
    "\n",
    "torch.manual_seed(1)\n",
    "device = 'cuda' if torch.cuda.is_available() else 'cpu'"
   ]
  },
  {
   "cell_type": "code",
   "execution_count": 2,
   "id": "bf50c8ee",
   "metadata": {},
   "outputs": [],
   "source": [
    "import os\n",
    "os.environ[\"CUDA_LAUNCH_BLOCKING\"] = \"1\"\n"
   ]
  },
  {
   "cell_type": "code",
   "execution_count": 3,
   "id": "7475abbb",
   "metadata": {},
   "outputs": [],
   "source": [
    "import torch, gc\n",
    "gc.collect()\n",
    "torch.cuda.empty_cache()"
   ]
  },
  {
   "cell_type": "markdown",
   "id": "6711a563",
   "metadata": {},
   "source": [
    "### Data"
   ]
  },
  {
   "cell_type": "code",
   "execution_count": 4,
   "id": "357c3453",
   "metadata": {},
   "outputs": [
    {
     "name": "stdout",
     "output_type": "stream",
     "text": [
      "Files already downloaded and verified\n",
      "Files already downloaded and verified\n"
     ]
    }
   ],
   "source": [
    "batch_size = 64\n",
    "transform = transforms.Compose( \n",
    "    [ \n",
    "        transforms.ToTensor()\n",
    "    ]\n",
    ")\n",
    "\n",
    "train_set = CIFAR10(\n",
    "    root='./data', \n",
    "    train=True, \n",
    "    download=True,\n",
    "    transform=transform\n",
    ")\n",
    "\n",
    "val_set = CIFAR10(\n",
    "    root='./data', \n",
    "    train=False, \n",
    "    download=True, \n",
    "    transform=transform\n",
    ")\n",
    "\n",
    "trainloader = DataLoader(\n",
    "    train_set, \n",
    "    batch_size=batch_size, \n",
    "    shuffle=True,\n",
    "    num_workers=4\n",
    ")\n",
    "\n",
    "testloader = DataLoader(\n",
    "    val_set, \n",
    "    batch_size=batch_size, \n",
    "    shuffle=False,\n",
    "    num_workers=4\n",
    ")"
   ]
  },
  {
   "cell_type": "markdown",
   "id": "34618692",
   "metadata": {},
   "source": [
    "### Model"
   ]
  },
  {
   "cell_type": "code",
   "execution_count": 5,
   "id": "31cac6ff",
   "metadata": {},
   "outputs": [],
   "source": [
    "class CNNModel(nn.Module):\n",
    "    def __init__(self, n_classes=10):\n",
    "        super(CNNModel, self).__init__()\n",
    "        self.conv_layer1 = nn.Sequential(\n",
    "            nn.Conv2d(3, 64, 3, stride=1, padding='same'),\n",
    "            nn.ReLU()\n",
    "        )\n",
    "        self.conv_layer2 = nn.Sequential(\n",
    "            nn.Conv2d(64, 64, 3, stride=1, padding='same'),\n",
    "            nn.ReLU()\n",
    "        )\n",
    "        self.conv_layer3 = nn.Sequential(\n",
    "            nn.Conv2d(64, 64, 3, stride=1, padding='same'),\n",
    "            nn.ReLU(),\n",
    "            nn.MaxPool2d(2, 2)\n",
    "        )\n",
    "        self.res_layer1 = nn.Sequential(\n",
    "            nn.Conv2d(3, 64, 3, stride=2, padding=1),\n",
    "            nn.ReLU(),\n",
    "        )\n",
    "        \n",
    "        self.conv_layer4 = nn.Sequential(\n",
    "            nn.Conv2d(64, 128, 3, stride=1, padding='same'),\n",
    "            nn.ReLU(),\n",
    "        )\n",
    "        self.conv_layer5 = nn.Sequential(\n",
    "            nn.Conv2d(128, 128, 3, stride=1, padding='same'),\n",
    "            nn.ReLU(),\n",
    "        )\n",
    "        self.conv_layer6 = nn.Sequential(\n",
    "            nn.Conv2d(128, 128, 3, stride=1, padding='same'),\n",
    "            nn.ReLU(),\n",
    "            nn.MaxPool2d(2, 2)\n",
    "        )\n",
    "        self.res_layer2 = nn.Sequential(\n",
    "            nn.Conv2d(64, 128, 3, stride=2, padding=1),\n",
    "            nn.ReLU(),\n",
    "        )\n",
    "\n",
    "        self.conv_layer7 = nn.Sequential(\n",
    "            nn.Conv2d(128, 256, 3, stride=1, padding='same'),\n",
    "            nn.ReLU(),\n",
    "        )\n",
    "        self.conv_layer8 = nn.Sequential(\n",
    "            nn.Conv2d(256, 256, 3, stride=1, padding='same'),\n",
    "            nn.ReLU(),\n",
    "        )\n",
    "        self.conv_layer9 = nn.Sequential(\n",
    "            nn.Conv2d(256, 256, 3, stride=1, padding='same'),\n",
    "            nn.ReLU(),\n",
    "            nn.MaxPool2d(2, 2)\n",
    "        )\n",
    "        self.res_layer3 = nn.Sequential(\n",
    "            nn.Conv2d(128, 256, 3, stride=2, padding=1),\n",
    "            nn.ReLU(),\n",
    "        )\n",
    "\n",
    "        self.conv_layer10 = nn.Sequential(\n",
    "            nn.Conv2d(256, 512, 3, stride=1, padding='same'),\n",
    "            nn.ReLU(),\n",
    "        )\n",
    "        self.conv_layer11 = nn.Sequential(\n",
    "            nn.Conv2d(512, 512, 3, stride=1, padding='same'),\n",
    "            nn.ReLU(),\n",
    "        )\n",
    "        self.conv_layer12 = nn.Sequential(\n",
    "            nn.Conv2d(512, 512, 3, stride=1, padding='same'),\n",
    "            nn.ReLU(),\n",
    "            nn.MaxPool2d(2, 2)\n",
    "        )\n",
    "        self.res_layer4 = nn.Sequential(\n",
    "            nn.Conv2d(256, 512, 3, stride=2, padding=1),\n",
    "            nn.ReLU(),\n",
    "        )\n",
    "\n",
    "        self.flatten = nn.Flatten()\n",
    "\n",
    "        self.fc_layer1 = nn.Sequential(\n",
    "            nn.Linear(512 * 2 * 2, 512),\n",
    "            nn.ReLU()\n",
    "        )\n",
    "        self.fc_layer2 = nn.Linear(512, n_classes)\n",
    "    \n",
    "    def forward(self, x):\n",
    "        previous_input_x = x\n",
    "        x = self.conv_layer1(x)\n",
    "        x = self.conv_layer2(x)\n",
    "        x = self.conv_layer3(x)\n",
    "        res = self.res_layer1(previous_input_x)\n",
    "        x = x + res\n",
    "\n",
    "        previous_input_x = x\n",
    "        x = self.conv_layer4(x)\n",
    "        x = self.conv_layer5(x)\n",
    "        x = self.conv_layer6(x)\n",
    "        res = self.res_layer2(previous_input_x)\n",
    "        x = x + res\n",
    "\n",
    "        previous_input_x = x\n",
    "        x = self.conv_layer7(x)\n",
    "        x = self.conv_layer8(x)\n",
    "        x = self.conv_layer9(x)\n",
    "        res = self.res_layer3(previous_input_x)\n",
    "        x = x + res\n",
    "\n",
    "        previous_input_x = x\n",
    "        x = self.conv_layer10(x)\n",
    "        x = self.conv_layer11(x)\n",
    "        x = self.conv_layer12(x)\n",
    "        res = self.res_layer4(previous_input_x)\n",
    "        x = x + res\n",
    "        \n",
    "        x = self.flatten(x)\n",
    "        x = self.fc_layer1(x)\n",
    "        out = self.fc_layer2(x)\n",
    "\n",
    "        return out"
   ]
  },
  {
   "cell_type": "code",
   "execution_count": 6,
   "id": "8c82cedb",
   "metadata": {},
   "outputs": [
    {
     "name": "stdout",
     "output_type": "stream",
     "text": [
      "CNNModel(\n",
      "  (conv_layer1): Sequential(\n",
      "    (0): Conv2d(3, 64, kernel_size=(3, 3), stride=(1, 1), padding=same)\n",
      "    (1): ReLU()\n",
      "  )\n",
      "  (conv_layer2): Sequential(\n",
      "    (0): Conv2d(64, 64, kernel_size=(3, 3), stride=(1, 1), padding=same)\n",
      "    (1): ReLU()\n",
      "  )\n",
      "  (conv_layer3): Sequential(\n",
      "    (0): Conv2d(64, 64, kernel_size=(3, 3), stride=(1, 1), padding=same)\n",
      "    (1): ReLU()\n",
      "    (2): MaxPool2d(kernel_size=2, stride=2, padding=0, dilation=1, ceil_mode=False)\n",
      "  )\n",
      "  (res_layer1): Sequential(\n",
      "    (0): Conv2d(3, 64, kernel_size=(3, 3), stride=(2, 2), padding=(1, 1))\n",
      "    (1): ReLU()\n",
      "  )\n",
      "  (conv_layer4): Sequential(\n",
      "    (0): Conv2d(64, 128, kernel_size=(3, 3), stride=(1, 1), padding=same)\n",
      "    (1): ReLU()\n",
      "  )\n",
      "  (conv_layer5): Sequential(\n",
      "    (0): Conv2d(128, 128, kernel_size=(3, 3), stride=(1, 1), padding=same)\n",
      "    (1): ReLU()\n",
      "  )\n",
      "  (conv_layer6): Sequential(\n",
      "    (0): Conv2d(128, 128, kernel_size=(3, 3), stride=(1, 1), padding=same)\n",
      "    (1): ReLU()\n",
      "    (2): MaxPool2d(kernel_size=2, stride=2, padding=0, dilation=1, ceil_mode=False)\n",
      "  )\n",
      "  (res_layer2): Sequential(\n",
      "    (0): Conv2d(64, 128, kernel_size=(3, 3), stride=(2, 2), padding=(1, 1))\n",
      "    (1): ReLU()\n",
      "  )\n",
      "  (conv_layer7): Sequential(\n",
      "    (0): Conv2d(128, 256, kernel_size=(3, 3), stride=(1, 1), padding=same)\n",
      "    (1): ReLU()\n",
      "  )\n",
      "  (conv_layer8): Sequential(\n",
      "    (0): Conv2d(256, 256, kernel_size=(3, 3), stride=(1, 1), padding=same)\n",
      "    (1): ReLU()\n",
      "  )\n",
      "  (conv_layer9): Sequential(\n",
      "    (0): Conv2d(256, 256, kernel_size=(3, 3), stride=(1, 1), padding=same)\n",
      "    (1): ReLU()\n",
      "    (2): MaxPool2d(kernel_size=2, stride=2, padding=0, dilation=1, ceil_mode=False)\n",
      "  )\n",
      "  (res_layer3): Sequential(\n",
      "    (0): Conv2d(128, 256, kernel_size=(3, 3), stride=(2, 2), padding=(1, 1))\n",
      "    (1): ReLU()\n",
      "  )\n",
      "  (conv_layer10): Sequential(\n",
      "    (0): Conv2d(256, 512, kernel_size=(3, 3), stride=(1, 1), padding=same)\n",
      "    (1): ReLU()\n",
      "  )\n",
      "  (conv_layer11): Sequential(\n",
      "    (0): Conv2d(512, 512, kernel_size=(3, 3), stride=(1, 1), padding=same)\n",
      "    (1): ReLU()\n",
      "  )\n",
      "  (conv_layer12): Sequential(\n",
      "    (0): Conv2d(512, 512, kernel_size=(3, 3), stride=(1, 1), padding=same)\n",
      "    (1): ReLU()\n",
      "    (2): MaxPool2d(kernel_size=2, stride=2, padding=0, dilation=1, ceil_mode=False)\n",
      "  )\n",
      "  (res_layer4): Sequential(\n",
      "    (0): Conv2d(256, 512, kernel_size=(3, 3), stride=(2, 2), padding=(1, 1))\n",
      "    (1): ReLU()\n",
      "  )\n",
      "  (flatten): Flatten(start_dim=1, end_dim=-1)\n",
      "  (fc_layer1): Sequential(\n",
      "    (0): Linear(in_features=2048, out_features=512, bias=True)\n",
      "    (1): ReLU()\n",
      "  )\n",
      "  (fc_layer2): Linear(in_features=512, out_features=10, bias=True)\n",
      ")\n"
     ]
    }
   ],
   "source": [
    "model = CNNModel(10)\n",
    "\n",
    "model.to(device)\n",
    "print(model)"
   ]
  },
  {
   "cell_type": "markdown",
   "id": "6cbd23cb",
   "metadata": {},
   "source": [
    "### Train"
   ]
  },
  {
   "cell_type": "code",
   "execution_count": 7,
   "id": "a09ebf41",
   "metadata": {},
   "outputs": [],
   "source": [
    "criterion = nn.CrossEntropyLoss()\n",
    "optimizer = Adam(model.parameters(), lr=1e-3)"
   ]
  },
  {
   "cell_type": "code",
   "execution_count": null,
   "id": "f66a7d50",
   "metadata": {},
   "outputs": [],
   "source": [
    "def evaluate(model, testloader, criterion):\n",
    "    model.eval()\n",
    "    test_loss = 0.0\n",
    "    running_correct = 0\n",
    "    total = 0\n",
    "    with torch.no_grad():\n",
    "        for images, labels in testloader:\n",
    "            images, labels = images.to(device), labels.to(device)\n",
    "\n",
    "            outputs = model(images)\n",
    "            loss = criterion(outputs, labels)\n",
    "            test_loss += loss.item()\n",
    "            \n",
    "            _, predicted = torch.max(outputs.data, 1)\n",
    "            total += labels.size(0)\n",
    "            running_correct += (predicted == labels).sum().item()\n",
    "\n",
    "    accuracy = 100 * running_correct / total\n",
    "    test_loss = test_loss / len(testloader)\n",
    "    return test_loss, accuracy"
   ]
  },
  {
   "cell_type": "code",
   "execution_count": null,
   "id": "a363fab7",
   "metadata": {},
   "outputs": [],
   "source": [
    "train_losses = []\n",
    "train_accuracies = []\n",
    "test_losses = []\n",
    "test_accuracies = []\n",
    "max_epoch = 50"
   ]
  },
  {
   "cell_type": "code",
   "execution_count": null,
   "id": "30154259",
   "metadata": {},
   "outputs": [
    {
     "name": "stdout",
     "output_type": "stream",
     "text": [
      "Epoch [1/50], Loss: 1.6282, Accuracy: 39.55%, Test Loss: 1.2993, Test Accuracy: 52.69%\n",
      "Epoch [2/50], Loss: 1.1539, Accuracy: 58.50%, Test Loss: 1.0613, Test Accuracy: 62.21%\n",
      "Epoch [3/50], Loss: 0.9190, Accuracy: 67.14%, Test Loss: 0.9492, Test Accuracy: 66.22%\n",
      "Epoch [4/50], Loss: 0.7576, Accuracy: 73.26%, Test Loss: 0.8170, Test Accuracy: 71.74%\n",
      "Epoch [5/50], Loss: 0.6205, Accuracy: 78.04%, Test Loss: 0.8341, Test Accuracy: 71.63%\n",
      "Epoch [6/50], Loss: 0.5028, Accuracy: 82.11%, Test Loss: 0.8070, Test Accuracy: 73.90%\n",
      "Epoch [7/50], Loss: 0.4000, Accuracy: 85.66%, Test Loss: 0.8588, Test Accuracy: 73.07%\n",
      "Epoch [8/50], Loss: 0.2991, Accuracy: 89.35%, Test Loss: 0.9911, Test Accuracy: 71.76%\n",
      "Epoch [9/50], Loss: 0.2325, Accuracy: 91.64%, Test Loss: 1.0241, Test Accuracy: 73.20%\n",
      "Epoch [10/50], Loss: 0.1819, Accuracy: 93.58%, Test Loss: 1.1810, Test Accuracy: 72.04%\n",
      "Epoch [11/50], Loss: 0.1434, Accuracy: 94.94%, Test Loss: 1.2949, Test Accuracy: 73.22%\n",
      "Epoch [12/50], Loss: 0.1333, Accuracy: 95.28%, Test Loss: 1.3900, Test Accuracy: 72.50%\n",
      "Epoch [13/50], Loss: 0.1090, Accuracy: 96.23%, Test Loss: 1.5758, Test Accuracy: 72.29%\n",
      "Epoch [14/50], Loss: 0.1123, Accuracy: 96.11%, Test Loss: 1.5206, Test Accuracy: 72.61%\n",
      "Epoch [15/50], Loss: 0.0953, Accuracy: 96.76%, Test Loss: 1.5776, Test Accuracy: 72.55%\n",
      "Epoch [16/50], Loss: 0.0957, Accuracy: 96.71%, Test Loss: 1.6367, Test Accuracy: 73.05%\n",
      "Epoch [17/50], Loss: 0.0953, Accuracy: 96.79%, Test Loss: 1.6787, Test Accuracy: 72.77%\n",
      "Epoch [18/50], Loss: 0.0775, Accuracy: 97.39%, Test Loss: 1.7318, Test Accuracy: 72.63%\n",
      "Epoch [19/50], Loss: 0.0805, Accuracy: 97.29%, Test Loss: 1.6965, Test Accuracy: 72.43%\n",
      "Epoch [20/50], Loss: 0.0811, Accuracy: 97.38%, Test Loss: 1.9545, Test Accuracy: 72.15%\n",
      "Epoch [21/50], Loss: 0.0776, Accuracy: 97.46%, Test Loss: 1.8981, Test Accuracy: 72.08%\n",
      "Epoch [22/50], Loss: 0.0675, Accuracy: 97.74%, Test Loss: 1.9522, Test Accuracy: 72.46%\n",
      "Epoch [23/50], Loss: 0.0770, Accuracy: 97.51%, Test Loss: 1.8415, Test Accuracy: 72.49%\n",
      "Epoch [24/50], Loss: 0.0727, Accuracy: 97.62%, Test Loss: 1.8751, Test Accuracy: 71.82%\n",
      "Epoch [25/50], Loss: 0.0692, Accuracy: 97.75%, Test Loss: 1.8736, Test Accuracy: 72.33%\n",
      "Epoch [26/50], Loss: 0.0636, Accuracy: 97.89%, Test Loss: 2.0041, Test Accuracy: 72.66%\n",
      "Epoch [27/50], Loss: 0.0652, Accuracy: 97.90%, Test Loss: 2.2176, Test Accuracy: 70.85%\n",
      "Epoch [28/50], Loss: 0.0669, Accuracy: 97.82%, Test Loss: 2.0359, Test Accuracy: 72.33%\n",
      "Epoch [29/50], Loss: 0.0662, Accuracy: 97.81%, Test Loss: 2.1340, Test Accuracy: 71.18%\n",
      "Epoch [30/50], Loss: 0.0620, Accuracy: 98.05%, Test Loss: 2.0818, Test Accuracy: 72.05%\n",
      "Epoch [31/50], Loss: 0.0556, Accuracy: 98.23%, Test Loss: 2.1523, Test Accuracy: 72.69%\n",
      "Epoch [32/50], Loss: 0.0616, Accuracy: 98.03%, Test Loss: 2.1312, Test Accuracy: 71.88%\n",
      "Epoch [33/50], Loss: 0.0619, Accuracy: 98.08%, Test Loss: 2.2881, Test Accuracy: 72.41%\n",
      "Epoch [34/50], Loss: 0.0553, Accuracy: 98.24%, Test Loss: 2.2979, Test Accuracy: 71.97%\n",
      "Epoch [35/50], Loss: 0.0632, Accuracy: 98.02%, Test Loss: 2.0950, Test Accuracy: 72.39%\n",
      "Epoch [36/50], Loss: 0.0545, Accuracy: 98.36%, Test Loss: 2.1523, Test Accuracy: 71.95%\n",
      "Epoch [37/50], Loss: 0.0534, Accuracy: 98.32%, Test Loss: 2.2329, Test Accuracy: 72.38%\n",
      "Epoch [38/50], Loss: 0.0578, Accuracy: 98.33%, Test Loss: 2.2465, Test Accuracy: 72.18%\n",
      "Epoch [39/50], Loss: 0.0547, Accuracy: 98.30%, Test Loss: 2.4586, Test Accuracy: 71.18%\n",
      "Epoch [40/50], Loss: 0.0603, Accuracy: 98.11%, Test Loss: 2.2095, Test Accuracy: 72.04%\n",
      "Epoch [41/50], Loss: 0.0501, Accuracy: 98.51%, Test Loss: 2.3392, Test Accuracy: 71.57%\n",
      "Epoch [42/50], Loss: 0.0534, Accuracy: 98.33%, Test Loss: 2.3688, Test Accuracy: 72.78%\n",
      "Epoch [43/50], Loss: 0.0441, Accuracy: 98.61%, Test Loss: 2.4145, Test Accuracy: 72.31%\n",
      "Epoch [44/50], Loss: 0.0590, Accuracy: 98.21%, Test Loss: 2.5357, Test Accuracy: 71.72%\n",
      "Epoch [45/50], Loss: 0.0532, Accuracy: 98.40%, Test Loss: 2.3827, Test Accuracy: 71.45%\n",
      "Epoch [46/50], Loss: 0.0503, Accuracy: 98.50%, Test Loss: 2.6395, Test Accuracy: 71.76%\n",
      "Epoch [47/50], Loss: 0.0580, Accuracy: 98.31%, Test Loss: 2.5045, Test Accuracy: 71.86%\n",
      "Epoch [48/50], Loss: 0.0468, Accuracy: 98.60%, Test Loss: 2.4004, Test Accuracy: 72.58%\n",
      "Epoch [49/50], Loss: 0.0518, Accuracy: 98.49%, Test Loss: 2.6566, Test Accuracy: 71.91%\n",
      "Epoch [50/50], Loss: 0.0530, Accuracy: 98.44%, Test Loss: 2.5411, Test Accuracy: 72.45%\n"
     ]
    }
   ],
   "source": [
    "for epoch in range(max_epoch):\n",
    "    model.train()\n",
    "    running_loss = 0.0\n",
    "    running_correct = 0   \n",
    "    total = 0            \n",
    "    for i, (inputs, labels) in enumerate(trainloader, 0):\n",
    "        inputs, labels = inputs.to(device), labels.to(device)\n",
    "\n",
    "        optimizer.zero_grad()\n",
    "\n",
    "        outputs = model(inputs)\n",
    "        loss = criterion(outputs, labels)\n",
    "        running_loss += loss.item()\n",
    "\n",
    "        loss.backward()\n",
    "        optimizer.step()  \n",
    "    \n",
    "        _, predicted = torch.max(outputs.data, 1)\n",
    "        total += labels.size(0)\n",
    "        running_correct += (predicted == labels).sum().item()\n",
    "\n",
    "\n",
    "    epoch_accuracy = 100 * running_correct / total\n",
    "    epoch_loss = running_loss / (i + 1)\n",
    "    \n",
    "    test_loss, test_accuracy = evaluate(model, testloader, criterion)\n",
    "    print(f\"Epoch [{epoch + 1}/{max_epoch}], Loss: {epoch_loss:.4f}, Accuracy: {epoch_accuracy:.2f}%, Test Loss: {test_loss:.4f}, Test Accuracy: {test_accuracy:.2f}%\")\n",
    "    \n",
    "    # save for plot\n",
    "    train_losses.append(epoch_loss)\n",
    "    train_accuracies.append(epoch_accuracy)\n",
    "    test_losses.append(test_loss)\n",
    "    test_accuracies.append(test_accuracy)"
   ]
  },
  {
   "cell_type": "code",
   "execution_count": 11,
   "id": "b7db376d",
   "metadata": {},
   "outputs": [
    {
     "data": {
      "text/plain": [
       "<matplotlib.legend.Legend at 0x2b3762a0970>"
      ]
     },
     "execution_count": 11,
     "metadata": {},
     "output_type": "execute_result"
    },
    {
     "data": {
      "image/png": "[encoded data removed]",
      "text/plain": [
       "<Figure size 640x480 with 1 Axes>"
      ]
     },
     "metadata": {},
     "output_type": "display_data"
    }
   ],
   "source": [
    "import matplotlib.pyplot as plt \n",
    "\n",
    "plt.plot(train_losses, label='train_losses')\n",
    "plt.plot(test_losses, label='test_losses')\n",
    "plt.legend()"
   ]
  },
  {
   "cell_type": "code",
   "execution_count": 12,
   "id": "05a376c0",
   "metadata": {},
   "outputs": [
    {
     "data": {
      "text/plain": [
       "<matplotlib.legend.Legend at 0x2b39594aa40>"
      ]
     },
     "execution_count": 12,
     "metadata": {},
     "output_type": "execute_result"
    },
    {
     "data": {
      "image/png": "[encoded data removed]",
      "text/plain": [
       "<Figure size 640x480 with 1 Axes>"
      ]
     },
     "metadata": {},
     "output_type": "display_data"
    }
   ],
   "source": [
    "import matplotlib.pyplot as plt \n",
    "\n",
    "plt.plot(train_accuracies, label='train_accuracies')\n",
    "plt.plot(test_accuracies, label='test_accuracies')\n",
    "plt.legend()"
   ]
  },
  {
   "cell_type": "code",
   "execution_count": null,
   "id": "8c63ff9c",
   "metadata": {},
   "outputs": [],
   "source": []
  }
 ],
 "metadata": {
  "kernelspec": {
   "display_name": "torchenv310",
   "language": "python",
   "name": "python3"
  },
  "language_info": {
   "codemirror_mode": {
    "name": "ipython",
    "version": 3
   },
   "file_extension": ".py",
   "mimetype": "text/x-python",
   "name": "python",
   "nbconvert_exporter": "python",
   "pygments_lexer": "ipython3",
   "version": "3.10.16"
  }
 },
 "nbformat": 4,
 "nbformat_minor": 5
}
