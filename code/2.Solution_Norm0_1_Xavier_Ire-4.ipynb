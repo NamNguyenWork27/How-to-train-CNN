{
 "cells": [
  {
   "cell_type": "code",
   "execution_count": 2,
   "id": "46b29a1e",
   "metadata": {},
   "outputs": [],
   "source": [
    "import torch \n",
    "import torchvision.transforms as transforms \n",
    "import torch.nn as nn \n",
    "import torch.nn.functional as F \n",
    "import torch.nn.init as init \n",
    "\n",
    "import numpy as np \n",
    "import matplotlib.pyplot as plt \n",
    "\n",
    "from torchvision.datasets import CIFAR10 \n",
    "from torch.utils.data import DataLoader \n",
    "from torch.optim import Adam \n",
    "import torchvision \n",
    "\n",
    "torch.manual_seed(1)\n",
    "device = 'cuda' if torch.cuda.is_available() else 'cpu'"
   ]
  },
  {
   "cell_type": "markdown",
   "id": "8e3fe75c",
   "metadata": {},
   "source": [
    "### Data"
   ]
  },
  {
   "cell_type": "code",
   "execution_count": 3,
   "id": "7f3f130f",
   "metadata": {},
   "outputs": [
    {
     "name": "stdout",
     "output_type": "stream",
     "text": [
      "Files already downloaded and verified\n",
      "Files already downloaded and verified\n"
     ]
    }
   ],
   "source": [
    "batch_size = 256 \n",
    "transform = transforms.Compose( \n",
    "    [ \n",
    "        transforms.ToTensor()\n",
    "    ]\n",
    ")\n",
    "\n",
    "train_set = CIFAR10(\n",
    "    root='./data', \n",
    "    train=True, \n",
    "    download=True, \n",
    "    transform=transform\n",
    ")\n",
    "\n",
    "val_set = CIFAR10(\n",
    "    root='./data', \n",
    "    train=False, \n",
    "    download=True, \n",
    "    transform=transform\n",
    ")\n",
    "\n",
    "trainloader = DataLoader(\n",
    "    train_set, \n",
    "    batch_size=batch_size, \n",
    "    shuffle=True, \n",
    "    num_workers=4\n",
    ")\n",
    "\n",
    "testloader = DataLoader(\n",
    "    val_set, \n",
    "    batch_size=batch_size, \n",
    "    shuffle=False, \n",
    "    num_workers=4\n",
    ")"
   ]
  },
  {
   "cell_type": "markdown",
   "id": "abe12166",
   "metadata": {},
   "source": [
    "### Model"
   ]
  },
  {
   "cell_type": "code",
   "execution_count": 4,
   "id": "da3023cc",
   "metadata": {},
   "outputs": [],
   "source": [
    "class CNNModel(nn.Module):\n",
    "    def __init__(self, n_classes=10):\n",
    "        super(CNNModel, self).__init__()\n",
    "        self.conv_layer1 = nn.Sequential(\n",
    "            nn.Conv2d(3, 64, 3, stride=1, padding='same'), \n",
    "            nn.ReLU()\n",
    "        )\n",
    "        self.conv_layer2 = nn.Sequential(\n",
    "            nn.Conv2d(64, 64, 3, stride=1, padding='same'), \n",
    "            nn.ReLU()\n",
    "        )\n",
    "        self.conv_layer3 = nn.Sequential(\n",
    "            nn.Conv2d(64, 64, 3, stride=1, padding='same'), \n",
    "            nn.ReLU(), \n",
    "            nn.MaxPool2d(2, 2)\n",
    "        )\n",
    "\n",
    "        self.conv_layer4 = nn.Sequential(\n",
    "            nn.Conv2d(64, 128, 3, stride=1, padding='same'), \n",
    "            nn.ReLU()\n",
    "        )\n",
    "        self.conv_layer5 = nn.Sequential(\n",
    "            nn.Conv2d(128, 128, 3, stride=1, padding='same'),\n",
    "            nn.ReLU()\n",
    "        )\n",
    "        self.conv_layer6 = nn.Sequential(\n",
    "            nn.Conv2d(128, 128, 3, stride=1, padding='same'), \n",
    "            nn.ReLU(), \n",
    "            nn.MaxPool2d(2, 2)\n",
    "        )\n",
    "\n",
    "        self.conv_layer7 = nn.Sequential(\n",
    "            nn.Conv2d(128, 256, 3, stride=1, padding='same'), \n",
    "            nn.ReLU()\n",
    "        )\n",
    "        self.conv_layer8 = nn.Sequential(\n",
    "            nn.Conv2d(256, 256, 3, stride=1, padding='same'), \n",
    "            nn.ReLU()\n",
    "        )\n",
    "        self.conv_layer9 = nn.Sequential(\n",
    "            nn.Conv2d(256, 256, 3, stride=1, padding='same'), \n",
    "            nn.ReLU(), \n",
    "            nn.MaxPool2d(2, 2)\n",
    "        )\n",
    "\n",
    "        self.conv_layer10 = nn.Sequential(\n",
    "            nn.Conv2d(256, 512, 3, stride=1, padding='same'), \n",
    "            nn.ReLU(),\n",
    "        )\n",
    "        self.conv_layer11 = nn.Sequential(\n",
    "            nn.Conv2d(512, 512, 3, stride=1, padding='same'), \n",
    "            nn.ReLU(),\n",
    "        )\n",
    "        self.conv_layer12 = nn.Sequential( \n",
    "            nn.Conv2d(512, 512, 3, stride=1, padding='same'), \n",
    "            nn.ReLU(), \n",
    "            nn.MaxPool2d(2, 2)\n",
    "        )\n",
    "\n",
    "        self.flatten = nn.Flatten()\n",
    "\n",
    "        self.fc_layer1 = nn.Sequential(\n",
    "            nn.Linear(512 * 2 * 2, 512), \n",
    "            nn.ReLU()\n",
    "        )\n",
    "        self.fc_layer2 = nn.Linear(512, n_classes)\n",
    "\n",
    "        self.initialize_weights() \n",
    "\n",
    "    def initialize_weights(self):\n",
    "        for m in self.modules():\n",
    "            if isinstance(m, nn.Conv2d): \n",
    "                init.xavier_uniform_(m.weight)\n",
    "                if m.bias is not None:\n",
    "                    init.zeros_(m.bias)\n",
    "            elif isinstance(m, nn.Linear):\n",
    "                init.xavier_uniform_(m.weight)\n",
    "                if m.bias is not None:\n",
    "                    init.zeros_(m.bias)\n",
    "\n",
    "    def forward(self, x):\n",
    "        x = self.conv_layer1(x)\n",
    "        x = self.conv_layer2(x)\n",
    "        x = self.conv_layer3(x)\n",
    "        x = self.conv_layer4(x)\n",
    "        x = self.conv_layer5(x)\n",
    "        x = self.conv_layer6(x)\n",
    "        x = self.conv_layer7(x)\n",
    "        x = self.conv_layer8(x)\n",
    "        x = self.conv_layer9(x)\n",
    "        x = self.conv_layer10(x)\n",
    "        x = self.conv_layer11(x)\n",
    "        x = self.conv_layer12(x)\n",
    "        x = self.flatten(x)\n",
    "        x = self.fc_layer1(x)\n",
    "        out = self.fc_layer2(x)\n",
    "\n",
    "        return out"
   ]
  },
  {
   "cell_type": "code",
   "execution_count": 5,
   "id": "5ab1edaf",
   "metadata": {},
   "outputs": [
    {
     "name": "stdout",
     "output_type": "stream",
     "text": [
      "CNNModel(\n",
      "  (conv_layer1): Sequential(\n",
      "    (0): Conv2d(3, 64, kernel_size=(3, 3), stride=(1, 1), padding=same)\n",
      "    (1): ReLU()\n",
      "  )\n",
      "  (conv_layer2): Sequential(\n",
      "    (0): Conv2d(64, 64, kernel_size=(3, 3), stride=(1, 1), padding=same)\n",
      "    (1): ReLU()\n",
      "  )\n",
      "  (conv_layer3): Sequential(\n",
      "    (0): Conv2d(64, 64, kernel_size=(3, 3), stride=(1, 1), padding=same)\n",
      "    (1): ReLU()\n",
      "    (2): MaxPool2d(kernel_size=2, stride=2, padding=0, dilation=1, ceil_mode=False)\n",
      "  )\n",
      "  (conv_layer4): Sequential(\n",
      "    (0): Conv2d(64, 128, kernel_size=(3, 3), stride=(1, 1), padding=same)\n",
      "    (1): ReLU()\n",
      "  )\n",
      "  (conv_layer5): Sequential(\n",
      "    (0): Conv2d(128, 128, kernel_size=(3, 3), stride=(1, 1), padding=same)\n",
      "    (1): ReLU()\n",
      "  )\n",
      "  (conv_layer6): Sequential(\n",
      "    (0): Conv2d(128, 128, kernel_size=(3, 3), stride=(1, 1), padding=same)\n",
      "    (1): ReLU()\n",
      "    (2): MaxPool2d(kernel_size=2, stride=2, padding=0, dilation=1, ceil_mode=False)\n",
      "  )\n",
      "  (conv_layer7): Sequential(\n",
      "    (0): Conv2d(128, 256, kernel_size=(3, 3), stride=(1, 1), padding=same)\n",
      "    (1): ReLU()\n",
      "  )\n",
      "  (conv_layer8): Sequential(\n",
      "    (0): Conv2d(256, 256, kernel_size=(3, 3), stride=(1, 1), padding=same)\n",
      "    (1): ReLU()\n",
      "  )\n",
      "  (conv_layer9): Sequential(\n",
      "    (0): Conv2d(256, 256, kernel_size=(3, 3), stride=(1, 1), padding=same)\n",
      "    (1): ReLU()\n",
      "    (2): MaxPool2d(kernel_size=2, stride=2, padding=0, dilation=1, ceil_mode=False)\n",
      "  )\n",
      "  (conv_layer10): Sequential(\n",
      "    (0): Conv2d(256, 512, kernel_size=(3, 3), stride=(1, 1), padding=same)\n",
      "    (1): ReLU()\n",
      "  )\n",
      "  (conv_layer11): Sequential(\n",
      "    (0): Conv2d(512, 512, kernel_size=(3, 3), stride=(1, 1), padding=same)\n",
      "    (1): ReLU()\n",
      "  )\n",
      "  (conv_layer12): Sequential(\n",
      "    (0): Conv2d(512, 512, kernel_size=(3, 3), stride=(1, 1), padding=same)\n",
      "    (1): ReLU()\n",
      "    (2): MaxPool2d(kernel_size=2, stride=2, padding=0, dilation=1, ceil_mode=False)\n",
      "  )\n",
      "  (flatten): Flatten(start_dim=1, end_dim=-1)\n",
      "  (fc_layer1): Sequential(\n",
      "    (0): Linear(in_features=2048, out_features=512, bias=True)\n",
      "    (1): ReLU()\n",
      "  )\n",
      "  (fc_layer2): Linear(in_features=512, out_features=10, bias=True)\n",
      ")\n"
     ]
    }
   ],
   "source": [
    "model = CNNModel(10)\n",
    "\n",
    "model.to(device)\n",
    "print(model)"
   ]
  },
  {
   "cell_type": "markdown",
   "id": "fbb94f65",
   "metadata": {},
   "source": [
    "### Train"
   ]
  },
  {
   "cell_type": "code",
   "execution_count": 6,
   "id": "fab09e4f",
   "metadata": {},
   "outputs": [],
   "source": [
    "criterion = nn.CrossEntropyLoss()\n",
    "optimizer = Adam(model.parameters(), \n",
    "                 lr=1e-4)"
   ]
  },
  {
   "cell_type": "code",
   "execution_count": 7,
   "id": "4535dc45",
   "metadata": {},
   "outputs": [],
   "source": [
    "def evaluate(model, testloader, criterion):\n",
    "    model.eval()\n",
    "    test_loss = 0.0 \n",
    "    running_correct = 0 \n",
    "    total = 0 \n",
    "    with torch.no_grad():\n",
    "        for images, labels in testloader:\n",
    "            images, labels = images.to(device), labels.to(device)\n",
    "\n",
    "            outputs = model(images)\n",
    "            loss = criterion(outputs, labels)\n",
    "            test_loss += loss.item()\n",
    "\n",
    "            _, predicted = torch.max(outputs.data, 1)\n",
    "            total += labels.size(0)\n",
    "            running_correct += (predicted == labels).sum().item()\n",
    "\n",
    "    accuracy = 100 * running_correct / total \n",
    "    test_loss = test_loss / len(testloader)\n",
    "    return test_loss, accuracy "
   ]
  },
  {
   "cell_type": "code",
   "execution_count": 8,
   "id": "92ce69fc",
   "metadata": {},
   "outputs": [],
   "source": [
    "train_losses = []\n",
    "train_accuracies = []\n",
    "test_losses = []\n",
    "test_accuracies = []\n",
    "max_epoch = 50"
   ]
  },
  {
   "cell_type": "code",
   "execution_count": 9,
   "id": "635b47d0",
   "metadata": {},
   "outputs": [
    {
     "name": "stdout",
     "output_type": "stream",
     "text": [
      "Epoch [1/50], Loss: 1.8761, Accuracy: 29.34%, Test Loss: 1.6417, Test Accuracy: 39.65%\n",
      "Epoch [2/50], Loss: 1.5062, Accuracy: 43.84%, Test Loss: 1.4303, Test Accuracy: 47.43%\n",
      "Epoch [3/50], Loss: 1.3037, Accuracy: 52.19%, Test Loss: 1.2185, Test Accuracy: 54.92%\n",
      "Epoch [4/50], Loss: 1.1848, Accuracy: 56.85%, Test Loss: 1.1290, Test Accuracy: 59.46%\n",
      "Epoch [5/50], Loss: 1.0568, Accuracy: 61.94%, Test Loss: 1.1161, Test Accuracy: 60.11%\n",
      "Epoch [6/50], Loss: 0.9736, Accuracy: 65.03%, Test Loss: 0.9841, Test Accuracy: 64.85%\n",
      "Epoch [7/50], Loss: 0.9019, Accuracy: 67.68%, Test Loss: 0.9016, Test Accuracy: 68.19%\n",
      "Epoch [8/50], Loss: 0.8394, Accuracy: 70.09%, Test Loss: 0.9206, Test Accuracy: 67.18%\n",
      "Epoch [9/50], Loss: 0.7740, Accuracy: 72.20%, Test Loss: 0.8739, Test Accuracy: 69.08%\n",
      "Epoch [10/50], Loss: 0.7270, Accuracy: 74.15%, Test Loss: 0.8272, Test Accuracy: 70.72%\n",
      "Epoch [11/50], Loss: 0.6751, Accuracy: 76.12%, Test Loss: 0.8029, Test Accuracy: 72.20%\n",
      "Epoch [12/50], Loss: 0.6339, Accuracy: 77.62%, Test Loss: 0.7978, Test Accuracy: 72.01%\n",
      "Epoch [13/50], Loss: 0.5819, Accuracy: 79.61%, Test Loss: 0.7349, Test Accuracy: 74.74%\n",
      "Epoch [14/50], Loss: 0.5398, Accuracy: 80.77%, Test Loss: 0.7935, Test Accuracy: 73.07%\n",
      "Epoch [15/50], Loss: 0.5040, Accuracy: 82.09%, Test Loss: 0.7547, Test Accuracy: 74.52%\n",
      "Epoch [16/50], Loss: 0.4606, Accuracy: 83.86%, Test Loss: 0.7281, Test Accuracy: 75.28%\n",
      "Epoch [17/50], Loss: 0.3993, Accuracy: 86.00%, Test Loss: 0.7477, Test Accuracy: 75.43%\n",
      "Epoch [18/50], Loss: 0.3612, Accuracy: 87.36%, Test Loss: 0.7391, Test Accuracy: 76.07%\n",
      "Epoch [19/50], Loss: 0.3330, Accuracy: 88.14%, Test Loss: 0.8006, Test Accuracy: 75.40%\n",
      "Epoch [20/50], Loss: 0.2807, Accuracy: 89.93%, Test Loss: 0.7709, Test Accuracy: 76.48%\n",
      "Epoch [21/50], Loss: 0.2431, Accuracy: 91.35%, Test Loss: 0.8744, Test Accuracy: 75.64%\n",
      "Epoch [22/50], Loss: 0.2038, Accuracy: 92.79%, Test Loss: 0.9006, Test Accuracy: 77.17%\n",
      "Epoch [23/50], Loss: 0.1775, Accuracy: 93.66%, Test Loss: 0.9369, Test Accuracy: 76.33%\n",
      "Epoch [24/50], Loss: 0.1441, Accuracy: 94.92%, Test Loss: 0.9455, Test Accuracy: 76.91%\n",
      "Epoch [25/50], Loss: 0.1176, Accuracy: 96.01%, Test Loss: 0.9822, Test Accuracy: 77.41%\n",
      "Epoch [26/50], Loss: 0.1130, Accuracy: 95.98%, Test Loss: 1.0336, Test Accuracy: 77.20%\n",
      "Epoch [27/50], Loss: 0.0888, Accuracy: 96.91%, Test Loss: 1.1135, Test Accuracy: 76.61%\n",
      "Epoch [28/50], Loss: 0.0734, Accuracy: 97.41%, Test Loss: 1.1322, Test Accuracy: 77.24%\n",
      "Epoch [29/50], Loss: 0.0687, Accuracy: 97.64%, Test Loss: 1.2284, Test Accuracy: 75.89%\n",
      "Epoch [30/50], Loss: 0.0675, Accuracy: 97.67%, Test Loss: 1.2349, Test Accuracy: 76.29%\n",
      "Epoch [31/50], Loss: 0.0664, Accuracy: 97.62%, Test Loss: 1.1857, Test Accuracy: 77.09%\n",
      "Epoch [32/50], Loss: 0.0456, Accuracy: 98.38%, Test Loss: 1.3706, Test Accuracy: 75.57%\n",
      "Epoch [33/50], Loss: 0.0475, Accuracy: 98.33%, Test Loss: 1.3563, Test Accuracy: 76.67%\n",
      "Epoch [34/50], Loss: 0.0497, Accuracy: 98.35%, Test Loss: 1.2781, Test Accuracy: 77.12%\n",
      "Epoch [35/50], Loss: 0.0527, Accuracy: 98.16%, Test Loss: 1.3839, Test Accuracy: 76.48%\n",
      "Epoch [36/50], Loss: 0.0410, Accuracy: 98.56%, Test Loss: 1.2999, Test Accuracy: 76.53%\n",
      "Epoch [37/50], Loss: 0.0400, Accuracy: 98.65%, Test Loss: 1.3479, Test Accuracy: 77.67%\n",
      "Epoch [38/50], Loss: 0.0421, Accuracy: 98.52%, Test Loss: 1.2939, Test Accuracy: 76.60%\n",
      "Epoch [39/50], Loss: 0.0433, Accuracy: 98.53%, Test Loss: 1.3210, Test Accuracy: 78.21%\n",
      "Epoch [40/50], Loss: 0.0449, Accuracy: 98.45%, Test Loss: 1.5951, Test Accuracy: 75.79%\n",
      "Epoch [41/50], Loss: 0.0320, Accuracy: 98.88%, Test Loss: 1.4384, Test Accuracy: 77.15%\n",
      "Epoch [42/50], Loss: 0.0400, Accuracy: 98.60%, Test Loss: 1.2910, Test Accuracy: 78.30%\n",
      "Epoch [43/50], Loss: 0.0392, Accuracy: 98.62%, Test Loss: 1.2155, Test Accuracy: 77.47%\n",
      "Epoch [44/50], Loss: 0.0286, Accuracy: 99.01%, Test Loss: 1.4056, Test Accuracy: 76.74%\n",
      "Epoch [45/50], Loss: 0.0302, Accuracy: 98.98%, Test Loss: 1.4598, Test Accuracy: 76.53%\n",
      "Epoch [46/50], Loss: 0.0364, Accuracy: 98.74%, Test Loss: 1.4785, Test Accuracy: 77.35%\n",
      "Epoch [47/50], Loss: 0.0395, Accuracy: 98.66%, Test Loss: 1.3068, Test Accuracy: 77.19%\n",
      "Epoch [48/50], Loss: 0.0267, Accuracy: 99.09%, Test Loss: 1.4020, Test Accuracy: 77.02%\n",
      "Epoch [49/50], Loss: 0.0363, Accuracy: 98.69%, Test Loss: 1.3409, Test Accuracy: 77.10%\n",
      "Epoch [50/50], Loss: 0.0273, Accuracy: 99.06%, Test Loss: 1.3373, Test Accuracy: 78.26%\n"
     ]
    }
   ],
   "source": [
    "# train\n",
    "for epoch in range(max_epoch):\n",
    "    model.train()\n",
    "    running_loss = 0.0\n",
    "    running_correct = 0   # to track number of correct predictions\n",
    "    total = 0             # to track total number of samples\n",
    "\n",
    "    for i, (inputs, labels) in enumerate(trainloader, 0):\n",
    "        # Move inputs and labels to the device\n",
    "        inputs, labels = inputs.to(device), labels.to(device)\n",
    "\n",
    "        # Zero the parameter gradients\n",
    "        optimizer.zero_grad()\n",
    "\n",
    "        # Forward pass\n",
    "        outputs = model(inputs)\n",
    "        loss = criterion(outputs, labels)\n",
    "        running_loss += loss.item()\n",
    "\n",
    "        # Backward pass and optimization\n",
    "        loss.backward()\n",
    "        optimizer.step()  \n",
    "    \n",
    "        # Determine class predictions and track accuracy\n",
    "        _, predicted = torch.max(outputs.data, 1)\n",
    "        total += labels.size(0)\n",
    "        running_correct += (predicted == labels).sum().item()\n",
    "\n",
    "\n",
    "    epoch_accuracy = 100 * running_correct / total\n",
    "    epoch_loss = running_loss / (i + 1)\n",
    "    \n",
    "    test_loss, test_accuracy = evaluate(model, testloader, criterion)\n",
    "    print(f\"Epoch [{epoch + 1}/{max_epoch}], Loss: {epoch_loss:.4f}, Accuracy: {epoch_accuracy:.2f}%, Test Loss: {test_loss:.4f}, Test Accuracy: {test_accuracy:.2f}%\")\n",
    "    \n",
    "    # save for plot\n",
    "    train_losses.append(epoch_loss)\n",
    "    train_accuracies.append(epoch_accuracy)\n",
    "    test_losses.append(test_loss)\n",
    "    test_accuracies.append(test_accuracy)"
   ]
  },
  {
   "cell_type": "code",
   "execution_count": 10,
   "id": "a372090c",
   "metadata": {},
   "outputs": [
    {
     "data": {
      "text/plain": [
       "<matplotlib.legend.Legend at 0x1d21be7cca0>"
      ]
     },
     "execution_count": 10,
     "metadata": {},
     "output_type": "execute_result"
    },
    {
     "data": {
      "image/png": "[encoded data removed]",
      "text/plain": [
       "<Figure size 640x480 with 1 Axes>"
      ]
     },
     "metadata": {},
     "output_type": "display_data"
    }
   ],
   "source": [
    "import matplotlib.pyplot as plt \n",
    "\n",
    "plt.plot(train_losses, label='train_losses')\n",
    "plt.plot(test_losses, label='test_losses')\n",
    "plt.legend()"
   ]
  },
  {
   "cell_type": "code",
   "execution_count": 11,
   "id": "93067500",
   "metadata": {},
   "outputs": [
    {
     "data": {
      "text/plain": [
       "<matplotlib.legend.Legend at 0x1d2245ad0f0>"
      ]
     },
     "execution_count": 11,
     "metadata": {},
     "output_type": "execute_result"
    },
    {
     "data": {
      "image/png": "[encoded data removed]",
      "text/plain": [
       "<Figure size 640x480 with 1 Axes>"
      ]
     },
     "metadata": {},
     "output_type": "display_data"
    }
   ],
   "source": [
    "import matplotlib.pyplot as plt \n",
    "\n",
    "plt.plot(train_accuracies, label='train_accuracy')\n",
    "plt.plot(test_accuracies, label='test_accuracy')\n",
    "plt.legend()"
   ]
  },
  {
   "cell_type": "code",
   "execution_count": null,
   "id": "fc5eeb93",
   "metadata": {},
   "outputs": [],
   "source": []
  }
 ],
 "metadata": {
  "kernelspec": {
   "display_name": "torchenv310",
   "language": "python",
   "name": "python3"
  },
  "language_info": {
   "codemirror_mode": {
    "name": "ipython",
    "version": 3
   },
   "file_extension": ".py",
   "mimetype": "text/x-python",
   "name": "python",
   "nbconvert_exporter": "python",
   "pygments_lexer": "ipython3",
   "version": "3.10.16"
  }
 },
 "nbformat": 4,
 "nbformat_minor": 5
}
